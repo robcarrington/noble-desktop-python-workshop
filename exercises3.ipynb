{
 "cells": [
  {
   "cell_type": "markdown",
   "metadata": {},
   "source": [
    "# Exercise Set \\#4\n",
    "---"
   ]
  },
  {
   "cell_type": "markdown",
   "metadata": {},
   "source": [
    "## I. Jupyter Notebooks\n",
    "  - Standard format for doing/sharing a data analysis. \n",
    "  - Name \"Jupyter\" comes from combining Julia, Python and R -- the three biggest languages for data. \n",
    "  - Notebooks run _on your computer_, not the internet. Note that your address bar starts with \"localhost.\""
   ]
  },
  {
   "cell_type": "markdown",
   "metadata": {},
   "source": [
    "### Helpful shortcuts\n",
    "---\n",
    "\n",
    "**SHIFT + ENTER** ----> Execute Cell\n",
    "\n",
    "**ESC then b** ----> Create Cell \n",
    "\n",
    "**ESC then dd** ----> Delete Cell\n",
    "\n",
    "**\\[python expression\\]?** ---> Explanation of that Python expression"
   ]
  },
  {
   "cell_type": "markdown",
   "metadata": {},
   "source": [
    "## II. Dictionary"
   ]
  },
  {
   "cell_type": "markdown",
   "metadata": {},
   "source": [
    "#### Warm Ups"
   ]
  },
  {
   "cell_type": "code",
   "execution_count": 15,
   "metadata": {},
   "outputs": [],
   "source": [
    "# 1. Define an empty dictionary: my_dict = {}"
   ]
  },
  {
   "cell_type": "code",
   "execution_count": 23,
   "metadata": {},
   "outputs": [],
   "source": [
    "# 2. Add a key and value to your dict: my_dict['sweet_home'] = 'Alabama'"
   ]
  },
  {
   "cell_type": "code",
   "execution_count": 24,
   "metadata": {},
   "outputs": [],
   "source": [
    "# 3. Lookup the key 'sweet_home' in your dictionary: my_dict['sweet_home']"
   ]
  },
  {
   "cell_type": "code",
   "execution_count": 25,
   "metadata": {},
   "outputs": [],
   "source": [
    "# 4. Create a dictionary using a dictionary \"literal\": new_dict = {\"skies\": \"blue\", \"coming home\": \"you\"}"
   ]
  },
  {
   "cell_type": "code",
   "execution_count": 27,
   "metadata": {},
   "outputs": [],
   "source": [
    "# 5. Print the keys in your dictionary: for key in new_dict: print(key)"
   ]
  },
  {
   "cell_type": "markdown",
   "metadata": {},
   "source": [
    "#### Exercises"
   ]
  },
  {
   "cell_type": "code",
   "execution_count": 19,
   "metadata": {},
   "outputs": [],
   "source": [
    "# 1. Create a dictionary of your favorite things, e.g. favorites['cake'] = chocolate"
   ]
  },
  {
   "cell_type": "code",
   "execution_count": 28,
   "metadata": {},
   "outputs": [],
   "source": [
    "# 2. Loop over your dictionary keys AND values, using an f-string to print them: \"My favorite {category} is {item}!\""
   ]
  },
  {
   "cell_type": "code",
   "execution_count": 34,
   "metadata": {},
   "outputs": [],
   "source": [
    "# 3. Can you put a dictionary inside a dictionary? Test it out."
   ]
  },
  {
   "cell_type": "markdown",
   "metadata": {},
   "source": [
    "## III. Class"
   ]
  },
  {
   "cell_type": "markdown",
   "metadata": {},
   "source": [
    "#### Warm Ups"
   ]
  },
  {
   "cell_type": "code",
   "execution_count": 38,
   "metadata": {},
   "outputs": [],
   "source": [
    "# Define a class Train using the following code:\n",
    "\n",
    "# class Train():\n",
    "\n",
    "#     __init__(self, num_of_cars, speed, direction):\n",
    "    \n",
    "#         self.num_of_cars = num_of_cars\n",
    "#         self.speed = speed\n",
    "#         self.direction = direction"
   ]
  },
  {
   "cell_type": "code",
   "execution_count": 35,
   "metadata": {},
   "outputs": [],
   "source": [
    "# Create a Train object: Train(6, 100, \"west\")"
   ]
  },
  {
   "cell_type": "markdown",
   "metadata": {},
   "source": [
    "#### Exercises"
   ]
  },
  {
   "cell_type": "code",
   "execution_count": null,
   "metadata": {},
   "outputs": [],
   "source": [
    "# Write a class to represent a car. What data should it store? Give it a method honk() that uses print()"
   ]
  },
  {
   "cell_type": "markdown",
   "metadata": {},
   "source": [
    "## IV. Packages"
   ]
  },
  {
   "cell_type": "markdown",
   "metadata": {},
   "source": [
    "#### Warm Ups"
   ]
  },
  {
   "cell_type": "code",
   "execution_count": 39,
   "metadata": {},
   "outputs": [],
   "source": [
    "# 1. Load the pandas package using this code: import pandas"
   ]
  },
  {
   "cell_type": "code",
   "execution_count": 43,
   "metadata": {},
   "outputs": [],
   "source": [
    "# 2. To keep code shorter, you can abbreviate pandas upon importing like so: import pandas as pd"
   ]
  },
  {
   "cell_type": "code",
   "execution_count": null,
   "metadata": {},
   "outputs": [],
   "source": [
    "# 3. Create a dataframe from a list of dictionaries:\n",
    "# \n",
    "# data = [{\"cake\": \"chocolate\", \"bird\": \"quail\", \"state\": \"Texas\"},\n",
    "#        {\"cake\": \"angelfood\", \"bird\": \"turkey\", \"state\": \"california\"}]\n",
    "#\n",
    "# favorites_df = pd.DataFrame(data)"
   ]
  },
  {
   "cell_type": "code",
   "execution_count": 55,
   "metadata": {},
   "outputs": [],
   "source": [
    "# 4. Create a dataframe from a CSV:  hubble_df = pd.read_csv(\"hubble_data.csv\")"
   ]
  },
  {
   "cell_type": "markdown",
   "metadata": {},
   "source": [
    "#### Exercises"
   ]
  },
  {
   "cell_type": "code",
   "execution_count": 59,
   "metadata": {},
   "outputs": [],
   "source": [
    "# 1. Inspect the first few lines of both dataframes with the .head() method"
   ]
  },
  {
   "cell_type": "code",
   "execution_count": null,
   "metadata": {},
   "outputs": [],
   "source": [
    "# 2. Look at the distance column alone: hubble_df['distance']"
   ]
  },
  {
   "cell_type": "code",
   "execution_count": null,
   "metadata": {},
   "outputs": [],
   "source": [
    "# 3. Sort the dataframe by the distance column values: hubble_df.sort_values(by='distance')"
   ]
  },
  {
   "cell_type": "code",
   "execution_count": 58,
   "metadata": {},
   "outputs": [],
   "source": [
    "# 4. Change the index of the hubble dataframe: hubble_df.set_index(\"distance\", inplace=True)"
   ]
  },
  {
   "cell_type": "code",
   "execution_count": 60,
   "metadata": {},
   "outputs": [],
   "source": [
    "# 5. Plot a graph of the distance: \n",
    "# \n",
    "# %matplotlib inline\n",
    "# hubble_df.plot()"
   ]
  }
 ],
 "metadata": {
  "kernelspec": {
   "display_name": "Python 3",
   "language": "python",
   "name": "python3"
  },
  "language_info": {
   "codemirror_mode": {
    "name": "ipython",
    "version": 3
   },
   "file_extension": ".py",
   "mimetype": "text/x-python",
   "name": "python",
   "nbconvert_exporter": "python",
   "pygments_lexer": "ipython3",
   "version": "3.7.0"
  }
 },
 "nbformat": 4,
 "nbformat_minor": 2
}
