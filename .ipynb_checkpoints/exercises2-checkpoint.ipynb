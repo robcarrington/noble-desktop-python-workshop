{
 "cells": [
  {
   "cell_type": "markdown",
   "metadata": {},
   "source": [
    "# Exercise Set \\#2\n",
    "---"
   ]
  },
  {
   "cell_type": "markdown",
   "metadata": {},
   "source": [
    "## I. Jupyter Notebooks\n",
    "  - Standard format for doing/sharing a data analysis. \n",
    "  - Name \"Jupyter\" comes from combining Julia, Python and R -- the three biggest languages for data. \n",
    "  - Notebooks run _on your computer_, not the internet. Note that your address bar starts with \"localhost.\"\""
   ]
  },
  {
   "cell_type": "markdown",
   "metadata": {},
   "source": [
    "### Helpful shortcuts\n",
    "---\n",
    "\n",
    "**SHIFT + ENTER** ----> Execute Cell\n",
    "\n",
    "**ESC then b** ----> Create Cell \n",
    "\n",
    "**ESC then dd** ----> Delete Cell\n",
    "\n",
    "**\\[python expression\\]?** ---> Explanation of that Python expression"
   ]
  },
  {
   "cell_type": "markdown",
   "metadata": {},
   "source": [
    "## II. Conditional Statements"
   ]
  },
  {
   "cell_type": "markdown",
   "metadata": {},
   "source": [
    "#### Warm Ups"
   ]
  },
  {
   "cell_type": "code",
   "execution_count": 15,
   "metadata": {},
   "outputs": [],
   "source": [
    "# 1. Type in the following if condition:\n",
    "# \n",
    "# my_condition = True\n",
    "# if my_condition:\n",
    "#     print(\"It's all true! All the stories are True!\")\n",
    "# else:\n",
    "#     print(\"Oh. I guess it's False.\")"
   ]
  },
  {
   "cell_type": "code",
   "execution_count": 69,
   "metadata": {},
   "outputs": [],
   "source": [
    "# 2. Type in the following if condition:\n",
    "\n",
    "# dogs = ['Spot', 'Boomer', 'Mr. Higgins', 'Willie']\n",
    "\n",
    "# if len(dogs) >= 5:\n",
    "#     print(\"Jeez, we need to start a dog hotel!\")\n",
    "# else:\n",
    "#     print(\"Okay, this is a normal number of dogs.\")"
   ]
  },
  {
   "cell_type": "markdown",
   "metadata": {},
   "source": [
    "#### Exercises"
   ]
  },
  {
   "cell_type": "code",
   "execution_count": 71,
   "metadata": {},
   "outputs": [],
   "source": [
    "# 1. Add an elif condition to the above if-else condition.\n",
    "# If there is 3 or more dogs, print \"Wow, there's a lot of dogs here!\""
   ]
  },
  {
   "cell_type": "code",
   "execution_count": 72,
   "metadata": {},
   "outputs": [],
   "source": [
    "# 2. The len() function will return the integer length of any list or string.\n",
    "# Write a conditional statement that will print \"TL;DR\" if a string is longer then 8 characters and \"ok\" otherwise"
   ]
  },
  {
   "cell_type": "markdown",
   "metadata": {},
   "source": [
    "## For-Loop"
   ]
  },
  {
   "cell_type": "markdown",
   "metadata": {},
   "source": [
    "#### Warm Ups"
   ]
  },
  {
   "cell_type": "code",
   "execution_count": null,
   "metadata": {},
   "outputs": [],
   "source": [
    "# 1. Another form of loop in Python is the while loop. \n",
    "# It finishes when the condition it hinges on turns False. Enter the following:\n",
    "\n",
    "# while i < 10:\n",
    "#     print(\"Omg thank you!!!\")\n",
    "#     i = i+1"
   ]
  },
  {
   "cell_type": "code",
   "execution_count": 38,
   "metadata": {},
   "outputs": [],
   "source": [
    "# 2. You can loop over any span of numbers using the range() function. Try the following:\n",
    "\n",
    "# for num in range(10):\n",
    "#     print(num)"
   ]
  },
  {
   "cell_type": "markdown",
   "metadata": {},
   "source": [
    "#### Exercises"
   ]
  },
  {
   "cell_type": "code",
   "execution_count": 67,
   "metadata": {},
   "outputs": [],
   "source": [
    "# 1. Write Python code that will print out ONLY the even numbers up to 20"
   ]
  },
  {
   "cell_type": "code",
   "execution_count": null,
   "metadata": {},
   "outputs": [],
   "source": [
    "# 2. Write Python code that will sum all the numbers from zero to 100"
   ]
  },
  {
   "cell_type": "code",
   "execution_count": null,
   "metadata": {},
   "outputs": [],
   "source": [
    "# 2. You can loop over the characters in a string! \n",
    "# Try printing all the letters in \"Mississippi\" without the letter i."
   ]
  },
  {
   "cell_type": "markdown",
   "metadata": {},
   "source": [
    "## IV. Function"
   ]
  },
  {
   "cell_type": "markdown",
   "metadata": {},
   "source": [
    "#### Warm Ups"
   ]
  },
  {
   "cell_type": "code",
   "execution_count": 78,
   "metadata": {},
   "outputs": [],
   "source": [
    "# 1. Careful when naming your functions! Can easily overwrite built-in ones.\n",
    "# Overwrite the normal print function by writing this:\n",
    "\n",
    "# def print(my_string):\n",
    "#     return f\"You have printed: {my_string}\"\n",
    "\n",
    "# Try printing \"hello world\""
   ]
  },
  {
   "cell_type": "code",
   "execution_count": 79,
   "metadata": {},
   "outputs": [],
   "source": [
    "# 2. Don't worry, it's not permanent. You can restart Python to reset or run:\n",
    "\n",
    "# del print\n",
    "\n",
    "# This will remove your new function, and bring things back to normal."
   ]
  },
  {
   "cell_type": "markdown",
   "metadata": {},
   "source": [
    "#### Exercises"
   ]
  },
  {
   "cell_type": "code",
   "execution_count": null,
   "metadata": {},
   "outputs": [],
   "source": [
    "# 1. Write a function that will sum two numbers and return \"The sum of your numbers is: {sum_of_numbers}\""
   ]
  },
  {
   "cell_type": "code",
   "execution_count": null,
   "metadata": {},
   "outputs": [],
   "source": [
    "# 2. The max() function will return the larger of two elements. \n",
    "# Write a max3() function to return the largest of three elements."
   ]
  },
  {
   "cell_type": "code",
   "execution_count": null,
   "metadata": {},
   "outputs": [],
   "source": []
  }
 ],
 "metadata": {
  "kernelspec": {
   "display_name": "Python 3",
   "language": "python",
   "name": "python3"
  },
  "language_info": {
   "codemirror_mode": {
    "name": "ipython",
    "version": 3
   },
   "file_extension": ".py",
   "mimetype": "text/x-python",
   "name": "python",
   "nbconvert_exporter": "python",
   "pygments_lexer": "ipython3",
   "version": "3.7.0"
  }
 },
 "nbformat": 4,
 "nbformat_minor": 2
}
